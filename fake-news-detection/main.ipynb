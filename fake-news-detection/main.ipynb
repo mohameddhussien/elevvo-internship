{
 "cells": [
  {
   "cell_type": "code",
   "execution_count": 15,
   "id": "5e75b2a8",
   "metadata": {},
   "outputs": [
    {
     "name": "stderr",
     "output_type": "stream",
     "text": [
      "[nltk_data] Downloading package wordnet to\n",
      "[nltk_data]     C:\\Users\\2024\\AppData\\Roaming\\nltk_data...\n",
      "[nltk_data]   Package wordnet is already up-to-date!\n",
      "[nltk_data] Downloading package punkt_tab to\n",
      "[nltk_data]     C:\\Users\\2024\\AppData\\Roaming\\nltk_data...\n",
      "[nltk_data]   Package punkt_tab is already up-to-date!\n",
      "[nltk_data] Downloading package stopwords to\n",
      "[nltk_data]     C:\\Users\\2024\\AppData\\Roaming\\nltk_data...\n",
      "[nltk_data]   Package stopwords is already up-to-date!\n"
     ]
    }
   ],
   "source": [
    "import os\n",
    "\n",
    "import kaggle\n",
    "from kaggle.api.kaggle_api_extended import KaggleApi\n",
    "import kagglehub\n",
    "from kagglehub import KaggleDatasetAdapter\n",
    "\n",
    "import re\n",
    "import traceback\n",
    "import joblib\n",
    "from scipy import sparse\n",
    "import string as s\n",
    "\n",
    "from bs4 import BeautifulSoup\n",
    "\n",
    "from tqdm import tqdm\n",
    "import pandas as pd\n",
    "import seaborn as sns\n",
    "\n",
    "import matplotlib.pyplot as plt\n",
    "from wordcloud import WordCloud\n",
    "\n",
    "from sklearn.metrics import accuracy_score, precision_score, recall_score, f1_score\n",
    "from sklearn.model_selection import train_test_split\n",
    "\n",
    "from sklearn.naive_bayes import MultinomialNB\n",
    "from sklearn.linear_model import LogisticRegression, RidgeClassifier\n",
    "from sklearn.svm import LinearSVC\n",
    "from sklearn.ensemble import RandomForestClassifier, GradientBoostingClassifier, AdaBoostClassifier\n",
    "from xgboost import XGBClassifier\n",
    "from lightgbm import LGBMClassifier\n",
    "from catboost import CatBoostClassifier\n",
    "\n",
    "from sklearn.feature_extraction.text import TfidfVectorizer\n",
    "from sklearn.base import TransformerMixin, BaseEstimator\n",
    "\n",
    "import nltk\n",
    "from nltk.tokenize import word_tokenize\n",
    "from nltk.stem import WordNetLemmatizer\n",
    "from nltk.corpus import stopwords\n",
    "\n",
    "tqdm.pandas()\n",
    "\n",
    "nltk.download('wordnet')\n",
    "nltk.download('punkt_tab')\n",
    "nltk.download('stopwords')\n",
    "\n",
    "stop_words = set(stopwords.words('english'))"
   ]
  },
  {
   "cell_type": "code",
   "execution_count": 82,
   "id": "2791711b",
   "metadata": {},
   "outputs": [],
   "source": [
    "file_path = kagglehub.dataset_download(\"clmentbisaillon/fake-and-real-news-dataset\")\n"
   ]
  },
  {
   "cell_type": "code",
   "execution_count": 83,
   "id": "8cfdd69f",
   "metadata": {},
   "outputs": [],
   "source": [
    "fake_news_df = pd.read_csv(os.path.join(file_path, \"Fake.csv\"))\n",
    "true_news_df = pd.read_csv(os.path.join(file_path, \"True.csv\"))"
   ]
  },
  {
   "cell_type": "code",
   "execution_count": 84,
   "id": "34bc904c",
   "metadata": {},
   "outputs": [
    {
     "name": "stdout",
     "output_type": "stream",
     "text": [
      "Fake news dataframe size:  (23481, 4)\n",
      "True news dataframe size:  (21417, 4)\n",
      "Total original news count:  44898\n"
     ]
    }
   ],
   "source": [
    "print(\"Fake news dataframe size: \", fake_news_df.shape)\n",
    "print(\"True news dataframe size: \", true_news_df.shape)\n",
    "print(\"Total original news count: \", fake_news_df.shape[0] + true_news_df.shape[0])\n"
   ]
  },
  {
   "cell_type": "code",
   "execution_count": 85,
   "id": "f2000faa",
   "metadata": {},
   "outputs": [],
   "source": [
    "fake_news_df.loc[:, 'is_fake'] = True\n",
    "true_news_df.loc[:, 'is_fake'] = False\n",
    "news_df = pd.concat([fake_news_df, true_news_df], ignore_index=True)"
   ]
  },
  {
   "cell_type": "code",
   "execution_count": 86,
   "id": "dc8c6908",
   "metadata": {},
   "outputs": [],
   "source": [
    "news_df['subject'] = news_df.subject.astype('category').cat.codes"
   ]
  },
  {
   "cell_type": "code",
   "execution_count": 87,
   "id": "c457c600",
   "metadata": {},
   "outputs": [],
   "source": [
    "news_df['date'] = pd.to_datetime(news_df['date'], errors='coerce')\n",
    "news_df['year'] = news_df['date'].dt.year\n",
    "news_df['month'] = news_df['date'].dt.month\n",
    "news_df['dayofweek'] = news_df['date'].dt.dayofweek"
   ]
  },
  {
   "cell_type": "code",
   "execution_count": 88,
   "id": "d593eb61",
   "metadata": {},
   "outputs": [],
   "source": [
    "for col in ['year', 'month', 'dayofweek']:\n",
    "    news_df.loc[:, col] = news_df[col].fillna(news_df[col].mode()[0])"
   ]
  },
  {
   "cell_type": "code",
   "execution_count": 89,
   "id": "d35ad953",
   "metadata": {},
   "outputs": [],
   "source": [
    "news_df.drop_duplicates(subset=['title', 'subject', 'text', 'date', 'is_fake'], keep='last', inplace=True)"
   ]
  },
  {
   "cell_type": "code",
   "execution_count": 90,
   "id": "ba8c9201",
   "metadata": {},
   "outputs": [],
   "source": [
    "empty_mask = news_df['text'].isna() | (news_df['text'].str.strip() == '')\n",
    "news_df = news_df[~empty_mask].reset_index(drop=True)"
   ]
  },
  {
   "cell_type": "code",
   "execution_count": 101,
   "id": "243e2959",
   "metadata": {},
   "outputs": [
    {
     "name": "stdout",
     "output_type": "stream",
     "text": [
      "News dataframe size:  (44054, 8)\n",
      "Dataframe columns:  ['title', 'text', 'subject', 'date', 'is_fake', 'year', 'month', 'dayofweek']\n"
     ]
    }
   ],
   "source": [
    "print(\"News dataframe size: \", news_df.shape)\n",
    "print(\"Dataframe columns: \", news_df.columns.tolist())"
   ]
  },
  {
   "cell_type": "code",
   "execution_count": 102,
   "id": "478e82d3",
   "metadata": {},
   "outputs": [],
   "source": [
    "# def plot_wordcloud(data_df, id: bool = False, column='text'):\n",
    "#     _desc = data_df.loc[data_df['is_fake'] == id, column]\n",
    "#     plt.figure(figsize=(6, 6))\n",
    "#     wordcloud = WordCloud(min_font_size=3, max_words=2500, width=1200, height=800).generate(\" \".join(_desc))\n",
    "#     plt.imshow(wordcloud, interpolation='bilinear')\n",
    "#     plt.axis('off')\n",
    "#     plt.show()\n"
   ]
  },
  {
   "cell_type": "code",
   "execution_count": 103,
   "id": "a3b4c8b7",
   "metadata": {},
   "outputs": [],
   "source": [
    "# plot_wordcloud(news_df, False)"
   ]
  },
  {
   "cell_type": "code",
   "execution_count": 104,
   "id": "2c39f568",
   "metadata": {},
   "outputs": [],
   "source": [
    "# plot_wordcloud(news_df, True)"
   ]
  },
  {
   "cell_type": "code",
   "execution_count": 105,
   "id": "916d3300",
   "metadata": {},
   "outputs": [
    {
     "data": {
      "text/plain": [
       "subject  is_fake\n",
       "6        False      11216\n",
       "7        False       9991\n",
       "2        True        9050\n",
       "5        True        6430\n",
       "4        True        4308\n",
       "0        True        1498\n",
       "3        True         783\n",
       "1        True         778\n",
       "Name: count, dtype: int64"
      ]
     },
     "execution_count": 105,
     "metadata": {},
     "output_type": "execute_result"
    }
   ],
   "source": [
    "news_df[['subject', 'is_fake']].value_counts()"
   ]
  },
  {
   "cell_type": "code",
   "execution_count": 106,
   "id": "68eedbf2",
   "metadata": {},
   "outputs": [
    {
     "data": {
      "image/png": "[encoded data removed]",
      "text/plain": [
       "<Figure size 800x200 with 1 Axes>"
      ]
     },
     "metadata": {},
     "output_type": "display_data"
    }
   ],
   "source": [
    "plt.figure(figsize=(8, 2))\n",
    "sns.countplot(x='subject', data=news_df[news_df.is_fake == True])\n",
    "plt.show()"
   ]
  },
  {
   "cell_type": "code",
   "execution_count": 107,
   "id": "c2b46358",
   "metadata": {},
   "outputs": [
    {
     "data": {
      "image/png": "[encoded data removed]",
      "text/plain": [
       "<Figure size 300x200 with 1 Axes>"
      ]
     },
     "metadata": {},
     "output_type": "display_data"
    }
   ],
   "source": [
    "plt.figure(figsize=(3, 2))\n",
    "sns.countplot(x='subject', data=news_df[news_df.is_fake == False])\n",
    "plt.show()\n"
   ]
  },
  {
   "cell_type": "code",
   "execution_count": 108,
   "id": "c7efd49a",
   "metadata": {},
   "outputs": [],
   "source": [
    "cleaned_news_df = news_df.drop(columns=['title', 'date'])\n"
   ]
  },
  {
   "cell_type": "code",
   "execution_count": 109,
   "id": "b516ad85",
   "metadata": {},
   "outputs": [],
   "source": [
    "class TextPreprocessor(BaseEstimator, TransformerMixin):\n",
    "    def __init__(self):\n",
    "        self.lemmatizer = WordNetLemmatizer()\n",
    "\n",
    "    def fit(self, X, y=None):\n",
    "        return self\n",
    "\n",
    "    def transform(self, X, *_):\n",
    "        return pd.Series(self._preprocess_sentences(X), index=X.index)\n",
    "\n",
    "    def _preprocess_text(self, text):\n",
    "        text = text.lower().strip()\n",
    "        text = BeautifulSoup(text, \"html.parser\").get_text()\n",
    "        text = re.sub(r'https?://\\S+|www\\.\\S+', '', text)\n",
    "        text = re.sub(r'\\s+', ' ', text).strip()\n",
    "        \n",
    "        tokens = word_tokenize(text)\n",
    "        tokens = [self.lemmatizer.lemmatize(token) for token in tokens if token not in stop_words and token.isalpha()]\n",
    "        \n",
    "        return ' '.join(tokens)\n",
    "    \n",
    "    def _preprocess_sentences(self, sentences):\n",
    "        return sentences.progress_apply(self._preprocess_text)\n",
    " \n",
    "preprocessor = TextPreprocessor()"
   ]
  },
  {
   "cell_type": "code",
   "execution_count": 110,
   "id": "d3c59d47",
   "metadata": {},
   "outputs": [
    {
     "name": "stderr",
     "output_type": "stream",
     "text": [
      "100%|██████████| 44054/44054 [03:04<00:00, 238.57it/s]\n"
     ]
    }
   ],
   "source": [
    "cleaned_news_df.loc[:, 'text'] = preprocessor.transform(cleaned_news_df.text)"
   ]
  },
  {
   "cell_type": "code",
   "execution_count": 111,
   "id": "1e539419",
   "metadata": {},
   "outputs": [
    {
     "data": {
      "text/plain": [
       "['text', 'subject', 'is_fake', 'year', 'month', 'dayofweek']"
      ]
     },
     "execution_count": 111,
     "metadata": {},
     "output_type": "execute_result"
    }
   ],
   "source": [
    "cleaned_news_df.columns.tolist()"
   ]
  },
  {
   "cell_type": "code",
   "execution_count": 114,
   "id": "18069277",
   "metadata": {},
   "outputs": [],
   "source": [
    "empty_mask = cleaned_news_df['text'].isna() | (cleaned_news_df['text'].str.strip() == '')\n",
    "cleaned_news_df = cleaned_news_df[~empty_mask].reset_index(drop=True)"
   ]
  },
  {
   "cell_type": "code",
   "execution_count": 115,
   "id": "9d5750cf",
   "metadata": {},
   "outputs": [],
   "source": [
    "os.makedirs('./_resources/models', exist_ok=True)\n",
    "cleaned_news_df.to_csv('./_resources/preprocessed.csv', index=False, sep='|')"
   ]
  },
  {
   "cell_type": "code",
   "execution_count": 3,
   "id": "f510b2e1",
   "metadata": {},
   "outputs": [],
   "source": [
    "_df = pd.read_csv('./_resources/preprocessed.csv', sep='|')\n",
    "numeric_cols = ['subject', 'year', 'month', 'dayofweek']\n",
    "X = _df[['text', *numeric_cols]]\n",
    "y = _df['is_fake']"
   ]
  },
  {
   "cell_type": "code",
   "execution_count": 4,
   "id": "0d84fdd5",
   "metadata": {},
   "outputs": [
    {
     "name": "stdout",
     "output_type": "stream",
     "text": [
      "Train: (35174, 5), Test: (8794, 5)\n"
     ]
    }
   ],
   "source": [
    "X_train, X_test, y_train, y_test = train_test_split(X, y, test_size=0.2, random_state=42, shuffle=True, stratify=y)\n",
    "print(f\"Train: {X_train.shape}, Test: {X_test.shape}\")\n"
   ]
  },
  {
   "cell_type": "code",
   "execution_count": 5,
   "id": "4ccb57a3",
   "metadata": {},
   "outputs": [],
   "source": [
    "X_train_tabular = X_train[numeric_cols].values\n",
    "X_test_tabular = X_test[numeric_cols].values"
   ]
  },
  {
   "cell_type": "code",
   "execution_count": null,
   "id": "1a9f4652",
   "metadata": {},
   "outputs": [
    {
     "data": {
      "text/plain": [
       "['./_resources/models/tfidf_vectorizer.joblib']"
      ]
     },
     "execution_count": 119,
     "metadata": {},
     "output_type": "execute_result"
    }
   ],
   "source": [
    "tfidf = TfidfVectorizer(ngram_range=(1, 2))\n",
    "tfidf.fit(X_train.text)\n",
    "joblib.dump(tfidf, './_resources/models/tfidf_vectorizer.joblib')"
   ]
  },
  {
   "cell_type": "code",
   "execution_count": 6,
   "id": "a2a8abd7",
   "metadata": {},
   "outputs": [],
   "source": [
    "tfidf = joblib.load('./_resources/models/tfidf_vectorizer.joblib')"
   ]
  },
  {
   "cell_type": "code",
   "execution_count": 11,
   "id": "6c84adc1",
   "metadata": {},
   "outputs": [
    {
     "name": "stdout",
     "output_type": "stream",
     "text": [
      "No. of features extracted:\n",
      "3013060\n"
     ]
    }
   ],
   "source": [
    "X_train_text_tfidf = tfidf.transform(X_train.text)\n",
    "X_test_text_tfidf = tfidf.transform(X_test.text)\n",
    "print(\"No. of features extracted:\")\n",
    "print(len(tfidf.vocabulary_))"
   ]
  },
  {
   "cell_type": "code",
   "execution_count": 12,
   "id": "ceff1eac",
   "metadata": {},
   "outputs": [],
   "source": [
    "X_train_combined = sparse.hstack((X_train_text_tfidf, X_train_tabular))\n",
    "X_test_combined = sparse.hstack([X_test_text_tfidf, X_test_tabular])"
   ]
  },
  {
   "cell_type": "code",
   "execution_count": 19,
   "id": "3bd22cdf",
   "metadata": {},
   "outputs": [],
   "source": [
    "class ModelEvaluator:\n",
    "    def __init__(self, models: list):\n",
    "        self.models = models\n",
    "        self.results = []\n",
    "\n",
    "    def evaluate(self, X_train, y_train, X_test, y_test):\n",
    "        for model_cfg in tqdm(self.models, desc=\"Evaluating Models\", unit=\"model\"):\n",
    "            model_name = model_cfg.get('name', 'Unnamed Model')\n",
    "            try:\n",
    "                model = model_cfg['model'](**model_cfg.get('params', {}))\n",
    "                model.fit(X_train, y_train)\n",
    "                y_pred = model.predict(X_test)\n",
    "\n",
    "                metrics = {\n",
    "                    'Model': model_name,\n",
    "                    'Accuracy': accuracy_score(y_test, y_pred),\n",
    "                    'Precision': precision_score(y_test, y_pred, zero_division=0),\n",
    "                    'Recall': recall_score(y_test, y_pred, zero_division=0),\n",
    "                    'F1 Score': f1_score(y_test, y_pred, zero_division=0)\n",
    "                }\n",
    "                self.results.append(metrics)\n",
    "\n",
    "            except Exception as e:\n",
    "                print(f\"\\nModel '{model_name}' failed:\\n{traceback.format_exc()}\")\n",
    "                self.results.append({'Model': model_name, 'Accuracy': None, 'Precision': None, 'Recall': None, 'F1 Score': None, 'Error': str(e)})\n",
    "\n",
    "        df = pd.DataFrame(self.results)\n",
    "        return df.sort_values(by='Accuracy', ascending=False, na_position='last').reset_index(drop=True)\n",
    "\n",
    "    def save_models(self, results: pd.DataFrame, save_dir: str = \"./_resources/models\"):\n",
    "        os.makedirs(save_dir, exist_ok=True)\n",
    "        results.to_csv(\"./_resources/evaluations.csv\")\n",
    "\n",
    "        for model in self.models:\n",
    "            model_name = model.get('name', 'Unnamed Model').lower()\n",
    "            filename = os.path.join(save_dir, f\"{model_name.replace(' ', '_')}.pkl\")\n",
    "            joblib.dump(model, filename)\n",
    "            print(f\"Saved: {filename}\")\n"
   ]
  },
  {
   "cell_type": "code",
   "execution_count": null,
   "id": "2cf1f6c9",
   "metadata": {},
   "outputs": [
    {
     "name": "stderr",
     "output_type": "stream",
     "text": [
      "Evaluating Models:  22%|██▏       | 2/9 [00:43<02:32, 21.78s/model]e:\\Applications\\python-projects\\eleevo-internship\\.venv\\Lib\\site-packages\\sklearn\\svm\\_base.py:1237: ConvergenceWarning: Liblinear failed to converge, increase the number of iterations.\n",
      "  warnings.warn(\n",
      "Evaluating Models:  56%|█████▌    | 5/9 [10:41<11:58, 179.56s/model]"
     ]
    },
    {
     "name": "stdout",
     "output_type": "stream",
     "text": [
      "\n",
      "Model 'AdaBoost' failed:\n",
      "Traceback (most recent call last):\n",
      "  File \"C:\\Users\\2024\\AppData\\Local\\Temp\\ipykernel_17660\\2775312579.py\", line 10, in evaluate\n",
      "    model = model_cfg['model'](**model_cfg.get('params', {}))\n",
      "            ^^^^^^^^^^^^^^^^^^^^^^^^^^^^^^^^^^^^^^^^^^^^^^^^^\n",
      "TypeError: AdaBoostClassifier.__init__() got an unexpected keyword argument 'n_jobs'\n",
      "\n"
     ]
    },
    {
     "name": "stderr",
     "output_type": "stream",
     "text": [
      "e:\\Applications\\python-projects\\eleevo-internship\\.venv\\Lib\\site-packages\\xgboost\\training.py:183: UserWarning: [14:52:07] WARNING: C:\\actions-runner\\_work\\xgboost\\xgboost\\src\\learner.cc:738: \n",
      "Parameters: { \"use_label_encoder\" } are not used.\n",
      "\n",
      "  bst.update(dtrain, iteration=i, fobj=obj)\n",
      "Evaluating Models:  78%|███████▊  | 7/9 [11:42<03:27, 103.97s/model]"
     ]
    },
    {
     "name": "stdout",
     "output_type": "stream",
     "text": [
      "[LightGBM] [Info] Number of positive: 18209, number of negative: 16965\n",
      "[LightGBM] [Info] Auto-choosing col-wise multi-threading, the overhead of testing was 5.550097 seconds.\n",
      "You can set `force_col_wise=true` to remove the overhead.\n",
      "[LightGBM] [Info] Total Bins 1574424\n",
      "[LightGBM] [Info] Number of data points in the train set: 35174, number of used features: 47686\n",
      "[LightGBM] [Info] [binary:BoostFromScore]: pavg=0.517684 -> initscore=0.070764\n",
      "[LightGBM] [Info] Start training from score 0.070764\n",
      "[LightGBM] [Warning] No further splits with positive gain, best gain: -inf\n",
      "[LightGBM] [Warning] No further splits with positive gain, best gain: -inf\n",
      "[LightGBM] [Warning] No further splits with positive gain, best gain: -inf\n",
      "[LightGBM] [Warning] No further splits with positive gain, best gain: -inf\n",
      "[LightGBM] [Warning] No further splits with positive gain, best gain: -inf\n",
      "[LightGBM] [Warning] No further splits with positive gain, best gain: -inf\n",
      "[LightGBM] [Warning] No further splits with positive gain, best gain: -inf\n",
      "[LightGBM] [Warning] No further splits with positive gain, best gain: -inf\n",
      "[LightGBM] [Warning] No further splits with positive gain, best gain: -inf\n",
      "[LightGBM] [Warning] No further splits with positive gain, best gain: -inf\n",
      "[LightGBM] [Warning] No further splits with positive gain, best gain: -inf\n",
      "[LightGBM] [Warning] No further splits with positive gain, best gain: -inf\n",
      "[LightGBM] [Warning] No further splits with positive gain, best gain: -inf\n",
      "[LightGBM] [Warning] No further splits with positive gain, best gain: -inf\n",
      "[LightGBM] [Warning] No further splits with positive gain, best gain: -inf\n",
      "[LightGBM] [Warning] No further splits with positive gain, best gain: -inf\n",
      "[LightGBM] [Warning] No further splits with positive gain, best gain: -inf\n",
      "[LightGBM] [Warning] No further splits with positive gain, best gain: -inf\n",
      "[LightGBM] [Warning] No further splits with positive gain, best gain: -inf\n",
      "[LightGBM] [Warning] No further splits with positive gain, best gain: -inf\n",
      "[LightGBM] [Warning] No further splits with positive gain, best gain: -inf\n",
      "[LightGBM] [Warning] No further splits with positive gain, best gain: -inf\n",
      "[LightGBM] [Warning] No further splits with positive gain, best gain: -inf\n",
      "[LightGBM] [Warning] No further splits with positive gain, best gain: -inf\n",
      "[LightGBM] [Warning] No further splits with positive gain, best gain: -inf\n",
      "[LightGBM] [Warning] No further splits with positive gain, best gain: -inf\n",
      "[LightGBM] [Warning] No further splits with positive gain, best gain: -inf\n",
      "[LightGBM] [Warning] No further splits with positive gain, best gain: -inf\n",
      "[LightGBM] [Warning] No further splits with positive gain, best gain: -inf\n",
      "[LightGBM] [Warning] No further splits with positive gain, best gain: -inf\n",
      "[LightGBM] [Warning] No further splits with positive gain, best gain: -inf\n",
      "[LightGBM] [Warning] No further splits with positive gain, best gain: -inf\n",
      "[LightGBM] [Warning] No further splits with positive gain, best gain: -inf\n",
      "[LightGBM] [Warning] No further splits with positive gain, best gain: -inf\n",
      "[LightGBM] [Warning] No further splits with positive gain, best gain: -inf\n",
      "[LightGBM] [Warning] No further splits with positive gain, best gain: -inf\n",
      "[LightGBM] [Warning] No further splits with positive gain, best gain: -inf\n",
      "[LightGBM] [Warning] No further splits with positive gain, best gain: -inf\n",
      "[LightGBM] [Warning] No further splits with positive gain, best gain: -inf\n",
      "[LightGBM] [Warning] No further splits with positive gain, best gain: -inf\n",
      "[LightGBM] [Warning] No further splits with positive gain, best gain: -inf\n",
      "[LightGBM] [Warning] No further splits with positive gain, best gain: -inf\n",
      "[LightGBM] [Warning] No further splits with positive gain, best gain: -inf\n",
      "[LightGBM] [Warning] No further splits with positive gain, best gain: -inf\n",
      "[LightGBM] [Warning] No further splits with positive gain, best gain: -inf\n",
      "[LightGBM] [Warning] No further splits with positive gain, best gain: -inf\n",
      "[LightGBM] [Warning] No further splits with positive gain, best gain: -inf\n",
      "[LightGBM] [Warning] No further splits with positive gain, best gain: -inf\n",
      "[LightGBM] [Warning] No further splits with positive gain, best gain: -inf\n",
      "[LightGBM] [Warning] No further splits with positive gain, best gain: -inf\n",
      "[LightGBM] [Warning] No further splits with positive gain, best gain: -inf\n",
      "[LightGBM] [Warning] No further splits with positive gain, best gain: -inf\n",
      "[LightGBM] [Warning] No further splits with positive gain, best gain: -inf\n",
      "[LightGBM] [Warning] No further splits with positive gain, best gain: -inf\n",
      "[LightGBM] [Warning] No further splits with positive gain, best gain: -inf\n",
      "[LightGBM] [Warning] No further splits with positive gain, best gain: -inf\n",
      "[LightGBM] [Warning] No further splits with positive gain, best gain: -inf\n",
      "[LightGBM] [Warning] No further splits with positive gain, best gain: -inf\n",
      "[LightGBM] [Warning] No further splits with positive gain, best gain: -inf\n",
      "[LightGBM] [Warning] No further splits with positive gain, best gain: -inf\n",
      "[LightGBM] [Warning] No further splits with positive gain, best gain: -inf\n",
      "[LightGBM] [Warning] No further splits with positive gain, best gain: -inf\n",
      "[LightGBM] [Warning] No further splits with positive gain, best gain: -inf\n",
      "[LightGBM] [Warning] No further splits with positive gain, best gain: -inf\n",
      "[LightGBM] [Warning] No further splits with positive gain, best gain: -inf\n",
      "[LightGBM] [Warning] No further splits with positive gain, best gain: -inf\n",
      "[LightGBM] [Warning] No further splits with positive gain, best gain: -inf\n",
      "[LightGBM] [Warning] No further splits with positive gain, best gain: -inf\n",
      "[LightGBM] [Warning] No further splits with positive gain, best gain: -inf\n",
      "[LightGBM] [Warning] No further splits with positive gain, best gain: -inf\n",
      "[LightGBM] [Warning] No further splits with positive gain, best gain: -inf\n",
      "[LightGBM] [Warning] No further splits with positive gain, best gain: -inf\n",
      "[LightGBM] [Warning] No further splits with positive gain, best gain: -inf\n",
      "[LightGBM] [Warning] No further splits with positive gain, best gain: -inf\n",
      "[LightGBM] [Warning] No further splits with positive gain, best gain: -inf\n",
      "[LightGBM] [Warning] No further splits with positive gain, best gain: -inf\n",
      "[LightGBM] [Warning] No further splits with positive gain, best gain: -inf\n",
      "[LightGBM] [Warning] No further splits with positive gain, best gain: -inf\n",
      "[LightGBM] [Warning] No further splits with positive gain, best gain: -inf\n",
      "[LightGBM] [Warning] No further splits with positive gain, best gain: -inf\n",
      "[LightGBM] [Warning] No further splits with positive gain, best gain: -inf\n",
      "[LightGBM] [Warning] No further splits with positive gain, best gain: -inf\n",
      "[LightGBM] [Warning] No further splits with positive gain, best gain: -inf\n",
      "[LightGBM] [Warning] No further splits with positive gain, best gain: -inf\n",
      "[LightGBM] [Warning] No further splits with positive gain, best gain: -inf\n",
      "[LightGBM] [Warning] No further splits with positive gain, best gain: -inf\n",
      "[LightGBM] [Warning] No further splits with positive gain, best gain: -inf\n",
      "[LightGBM] [Warning] No further splits with positive gain, best gain: -inf\n",
      "[LightGBM] [Warning] No further splits with positive gain, best gain: -inf\n",
      "[LightGBM] [Warning] No further splits with positive gain, best gain: -inf\n",
      "[LightGBM] [Warning] No further splits with positive gain, best gain: -inf\n",
      "[LightGBM] [Warning] No further splits with positive gain, best gain: -inf\n",
      "[LightGBM] [Warning] No further splits with positive gain, best gain: -inf\n",
      "[LightGBM] [Warning] No further splits with positive gain, best gain: -inf\n",
      "[LightGBM] [Warning] No further splits with positive gain, best gain: -inf\n",
      "[LightGBM] [Warning] No further splits with positive gain, best gain: -inf\n",
      "[LightGBM] [Warning] No further splits with positive gain, best gain: -inf\n",
      "[LightGBM] [Warning] No further splits with positive gain, best gain: -inf\n",
      "[LightGBM] [Warning] No further splits with positive gain, best gain: -inf\n",
      "[LightGBM] [Warning] No further splits with positive gain, best gain: -inf\n"
     ]
    },
    {
     "name": "stderr",
     "output_type": "stream",
     "text": [
      "e:\\Applications\\python-projects\\eleevo-internship\\.venv\\Lib\\site-packages\\lightgbm\\basic.py:1238: UserWarning: Converting data to scipy sparse matrix.\n",
      "  _log_warning(\"Converting data to scipy sparse matrix.\")\n",
      "Evaluating Models: 100%|██████████| 9/9 [17:42<00:00, 118.05s/model]"
     ]
    },
    {
     "name": "stdout",
     "output_type": "stream",
     "text": [
      "\n",
      "Model 'CatBoost' failed:\n",
      "Traceback (most recent call last):\n",
      "  File \"C:\\Users\\2024\\AppData\\Local\\Temp\\ipykernel_17660\\2775312579.py\", line 11, in evaluate\n",
      "    model.fit(X_train, y_train)\n",
      "  File \"e:\\Applications\\python-projects\\eleevo-internship\\.venv\\Lib\\site-packages\\catboost\\core.py\", line 5245, in fit\n",
      "    self._fit(X, y, cat_features, text_features, embedding_features, None, graph, sample_weight, None, None, None, None, baseline, use_best_model,\n",
      "  File \"e:\\Applications\\python-projects\\eleevo-internship\\.venv\\Lib\\site-packages\\catboost\\core.py\", line 2410, in _fit\n",
      "    self._train(\n",
      "  File \"e:\\Applications\\python-projects\\eleevo-internship\\.venv\\Lib\\site-packages\\catboost\\core.py\", line 1790, in _train\n",
      "    self._object._train(train_pool, test_pool, params, allow_clear_pool, init_model._object if init_model else None)\n",
      "  File \"_catboost.pyx\", line 5023, in _catboost._CatBoost._train\n",
      "  File \"_catboost.pyx\", line 5072, in _catboost._CatBoost._train\n",
      "_catboost.CatBoostError: bad allocation\n",
      "\n"
     ]
    },
    {
     "name": "stderr",
     "output_type": "stream",
     "text": [
      "\n"
     ]
    },
    {
     "data": {
      "text/html": [
       "<div>\n",
       "<style scoped>\n",
       "    .dataframe tbody tr th:only-of-type {\n",
       "        vertical-align: middle;\n",
       "    }\n",
       "\n",
       "    .dataframe tbody tr th {\n",
       "        vertical-align: top;\n",
       "    }\n",
       "\n",
       "    .dataframe thead th {\n",
       "        text-align: right;\n",
       "    }\n",
       "</style>\n",
       "<table border=\"1\" class=\"dataframe\">\n",
       "  <thead>\n",
       "    <tr style=\"text-align: right;\">\n",
       "      <th></th>\n",
       "      <th>Model</th>\n",
       "      <th>Accuracy</th>\n",
       "      <th>Precision</th>\n",
       "      <th>Recall</th>\n",
       "      <th>F1 Score</th>\n",
       "      <th>Error</th>\n",
       "    </tr>\n",
       "  </thead>\n",
       "  <tbody>\n",
       "    <tr>\n",
       "      <th>0</th>\n",
       "      <td>Logistic Regression</td>\n",
       "      <td>1.000000</td>\n",
       "      <td>1.000000</td>\n",
       "      <td>1.000000</td>\n",
       "      <td>1.000000</td>\n",
       "      <td>NaN</td>\n",
       "    </tr>\n",
       "    <tr>\n",
       "      <th>1</th>\n",
       "      <td>Linear SVM</td>\n",
       "      <td>1.000000</td>\n",
       "      <td>1.000000</td>\n",
       "      <td>1.000000</td>\n",
       "      <td>1.000000</td>\n",
       "      <td>NaN</td>\n",
       "    </tr>\n",
       "    <tr>\n",
       "      <th>2</th>\n",
       "      <td>Gradient Boosting</td>\n",
       "      <td>1.000000</td>\n",
       "      <td>1.000000</td>\n",
       "      <td>1.000000</td>\n",
       "      <td>1.000000</td>\n",
       "      <td>NaN</td>\n",
       "    </tr>\n",
       "    <tr>\n",
       "      <th>3</th>\n",
       "      <td>XGBoost</td>\n",
       "      <td>1.000000</td>\n",
       "      <td>1.000000</td>\n",
       "      <td>1.000000</td>\n",
       "      <td>1.000000</td>\n",
       "      <td>NaN</td>\n",
       "    </tr>\n",
       "    <tr>\n",
       "      <th>4</th>\n",
       "      <td>LightGBM</td>\n",
       "      <td>1.000000</td>\n",
       "      <td>1.000000</td>\n",
       "      <td>1.000000</td>\n",
       "      <td>1.000000</td>\n",
       "      <td>NaN</td>\n",
       "    </tr>\n",
       "    <tr>\n",
       "      <th>5</th>\n",
       "      <td>Ridge Classifier</td>\n",
       "      <td>0.997612</td>\n",
       "      <td>0.999339</td>\n",
       "      <td>0.996046</td>\n",
       "      <td>0.997690</td>\n",
       "      <td>NaN</td>\n",
       "    </tr>\n",
       "    <tr>\n",
       "      <th>6</th>\n",
       "      <td>Random Forest</td>\n",
       "      <td>0.986809</td>\n",
       "      <td>0.986190</td>\n",
       "      <td>0.988357</td>\n",
       "      <td>0.987272</td>\n",
       "      <td>NaN</td>\n",
       "    </tr>\n",
       "    <tr>\n",
       "      <th>7</th>\n",
       "      <td>AdaBoost</td>\n",
       "      <td>NaN</td>\n",
       "      <td>NaN</td>\n",
       "      <td>NaN</td>\n",
       "      <td>NaN</td>\n",
       "      <td>AdaBoostClassifier.__init__() got an unexpecte...</td>\n",
       "    </tr>\n",
       "    <tr>\n",
       "      <th>8</th>\n",
       "      <td>CatBoost</td>\n",
       "      <td>NaN</td>\n",
       "      <td>NaN</td>\n",
       "      <td>NaN</td>\n",
       "      <td>NaN</td>\n",
       "      <td>bad allocation</td>\n",
       "    </tr>\n",
       "  </tbody>\n",
       "</table>\n",
       "</div>"
      ],
      "text/plain": [
       "                 Model  Accuracy  Precision    Recall  F1 Score  \\\n",
       "0  Logistic Regression  1.000000   1.000000  1.000000  1.000000   \n",
       "1           Linear SVM  1.000000   1.000000  1.000000  1.000000   \n",
       "2    Gradient Boosting  1.000000   1.000000  1.000000  1.000000   \n",
       "3              XGBoost  1.000000   1.000000  1.000000  1.000000   \n",
       "4             LightGBM  1.000000   1.000000  1.000000  1.000000   \n",
       "5     Ridge Classifier  0.997612   0.999339  0.996046  0.997690   \n",
       "6        Random Forest  0.986809   0.986190  0.988357  0.987272   \n",
       "7             AdaBoost       NaN        NaN       NaN       NaN   \n",
       "8             CatBoost       NaN        NaN       NaN       NaN   \n",
       "\n",
       "                                               Error  \n",
       "0                                                NaN  \n",
       "1                                                NaN  \n",
       "2                                                NaN  \n",
       "3                                                NaN  \n",
       "4                                                NaN  \n",
       "5                                                NaN  \n",
       "6                                                NaN  \n",
       "7  AdaBoostClassifier.__init__() got an unexpecte...  \n",
       "8                                     bad allocation  "
      ]
     },
     "execution_count": 17,
     "metadata": {},
     "output_type": "execute_result"
    }
   ],
   "source": [
    "models = [\n",
    "    {\n",
    "        'name': 'Logistic Regression',\n",
    "        'model': LogisticRegression,\n",
    "        'params': {'max_iter': 500, 'random_state': 42}\n",
    "    },\n",
    "    {\n",
    "        'name': 'Ridge Classifier',\n",
    "        'model': RidgeClassifier,\n",
    "        'params': {'random_state': 42}\n",
    "    },\n",
    "    {\n",
    "\t\t'name': 'Linear SVM',\n",
    "\t\t'model': LinearSVC,\n",
    "\t\t'params': {'C': 0.1, 'dual': True, 'max_iter': 2500, 'random_state': 42}\n",
    "\t},\n",
    "    {\n",
    "        'name': 'Random Forest',\n",
    "        'model': RandomForestClassifier,\n",
    "        'params': {'n_estimators': 50, 'random_state': 42, 'n_jobs': -1}\n",
    "    },\n",
    "    {\n",
    "        'name': 'Gradient Boosting',\n",
    "        'model': GradientBoostingClassifier,\n",
    "        'params': {'n_estimators': 50, 'random_state': 42}\n",
    "    },\n",
    "    # {\n",
    "    #     'name': 'AdaBoost',\n",
    "    #     'model': AdaBoostClassifier,\n",
    "    #     'params': {'n_estimators': 50, 'random_state': 42}\n",
    "    # },\n",
    "    {\n",
    "        'name': 'XGBoost',\n",
    "        'model': XGBClassifier,\n",
    "        'params': {'use_label_encoder': False, 'eval_metric': 'logloss', 'random_state': 42, 'n_jobs': -1}\n",
    "    },\n",
    "    {\n",
    "        'name': 'LightGBM',\n",
    "        'model': LGBMClassifier,\n",
    "        'params': {'random_state': 42, 'n_jobs': -1}\n",
    "    },\n",
    "    # {\n",
    "    #     'name': 'CatBoost',\n",
    "    #     'model': CatBoostClassifier,\n",
    "    #     'params': {'verbose': 0, 'random_state': 42}\n",
    "    # }\n",
    "]\n",
    "\n",
    "evaluator = ModelEvaluator(models)\n",
    "results_df = evaluator.evaluate(X_train_combined, y_train, X_test_combined, y_test)\n",
    "results_df"
   ]
  },
  {
   "cell_type": "code",
   "execution_count": null,
   "id": "8070b33e",
   "metadata": {},
   "outputs": [
    {
     "name": "stdout",
     "output_type": "stream",
     "text": [
      "Saved: ./_resources/models\\logistic_regression.pkl\n",
      "Saved: ./_resources/models\\ridge_classifier.pkl\n",
      "Saved: ./_resources/models\\linear_svm.pkl\n",
      "Saved: ./_resources/models\\random_forest.pkl\n",
      "Saved: ./_resources/models\\gradient_boosting.pkl\n",
      "Saved: ./_resources/models\\adaboost.pkl\n",
      "Saved: ./_resources/models\\xgboost.pkl\n",
      "Saved: ./_resources/models\\lightgbm.pkl\n",
      "Saved: ./_resources/models\\catboost.pkl\n"
     ]
    }
   ],
   "source": [
    "evaluator.save_models(results_df)"
   ]
  },
  {
   "cell_type": "code",
   "execution_count": null,
   "id": "811ebdcc",
   "metadata": {},
   "outputs": [],
   "source": []
  }
 ],
 "metadata": {
  "kernelspec": {
   "display_name": ".venv",
   "language": "python",
   "name": "python3"
  },
  "language_info": {
   "codemirror_mode": {
    "name": "ipython",
    "version": 3
   },
   "file_extension": ".py",
   "mimetype": "text/x-python",
   "name": "python",
   "nbconvert_exporter": "python",
   "pygments_lexer": "ipython3",
   "version": "3.12.3"
  }
 },
 "nbformat": 4,
 "nbformat_minor": 5
}
