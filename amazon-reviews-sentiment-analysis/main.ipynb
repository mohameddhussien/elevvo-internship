{
 "cells": [
  {
   "cell_type": "code",
   "execution_count": 69,
   "id": "ccbc61a5",
   "metadata": {},
   "outputs": [
    {
     "name": "stderr",
     "output_type": "stream",
     "text": [
      "[nltk_data] Downloading package wordnet to\n",
      "[nltk_data]     C:\\Users\\2024\\AppData\\Roaming\\nltk_data...\n",
      "[nltk_data]   Package wordnet is already up-to-date!\n",
      "[nltk_data] Downloading package punkt_tab to\n",
      "[nltk_data]     C:\\Users\\2024\\AppData\\Roaming\\nltk_data...\n",
      "[nltk_data]   Package punkt_tab is already up-to-date!\n",
      "[nltk_data] Downloading package stopwords to\n",
      "[nltk_data]     C:\\Users\\2024\\AppData\\Roaming\\nltk_data...\n",
      "[nltk_data]   Package stopwords is already up-to-date!\n"
     ]
    }
   ],
   "source": [
    "import os\n",
    "import pandas as pd\n",
    "import tarfile\n",
    "import numpy as np\n",
    "import string\n",
    "import spacy \n",
    "import nltk\n",
    "from nltk.tokenize import word_tokenize\n",
    "from nltk.stem import WordNetLemmatizer\n",
    "from nltk.corpus import stopwords\n",
    "\n",
    "from sklearn.metrics import accuracy_score, precision_score, recall_score, f1_score\n",
    "from sklearn.naive_bayes import MultinomialNB\n",
    "from sklearn.linear_model import LogisticRegression\n",
    "from sklearn.feature_extraction.text import TfidfVectorizer\n",
    "from sklearn.base import TransformerMixin, BaseEstimator\n",
    "import re\n",
    "import seaborn as sns\n",
    "import matplotlib.pyplot as plt\n",
    "from bs4 import BeautifulSoup\n",
    "from spellchecker import SpellChecker\n",
    "import traceback\n",
    "import joblib\n",
    "from tqdm import tqdm\n",
    "import kagglehub\n",
    "\n",
    "tqdm.pandas()\n",
    "\n",
    "nltk.download('wordnet')\n",
    "nltk.download('punkt_tab')\n",
    "nltk.download('stopwords')\n",
    "\n",
    "stop_words = set(stopwords.words('english'))"
   ]
  },
  {
   "cell_type": "code",
   "execution_count": 17,
   "id": "d9d949a3",
   "metadata": {},
   "outputs": [],
   "source": [
    "dataset_handle = \"kritanjalijain/amazon-reviews\"\n",
    "\n",
    "tgz_path = kagglehub.dataset_download(dataset_handle, \"amazon_review_polarity_csv.tgz\")"
   ]
  },
  {
   "cell_type": "code",
   "execution_count": 18,
   "id": "4cbc4a6d",
   "metadata": {},
   "outputs": [
    {
     "name": "stdout",
     "output_type": "stream",
     "text": [
      "C:\\Users\\2024\\.cache\\kagglehub\\datasets\\kritanjalijain\\amazon-reviews\\versions\\2\\amazon_review_polarity_csv.tgz\n"
     ]
    }
   ],
   "source": [
    "os.makedirs(\"./_resources/models\", exist_ok=True)\n",
    "print(tgz_path)"
   ]
  },
  {
   "cell_type": "code",
   "execution_count": 19,
   "id": "495cf1fd",
   "metadata": {},
   "outputs": [],
   "source": [
    "with tarfile.open(tgz_path, 'r:gz') as tar:\n",
    "    _base = 'amazon_review_polarity_csv'\n",
    "    train_member = tar.getmember(f\"{_base}/train.csv\")\n",
    "    with tar.extractfile(train_member) as f:\n",
    "        train_df = pd.read_csv(f, header=None, names=[\"label\", \"title\", \"description\"])\n",
    "    \n",
    "    with tar.extractfile(tar.getmember(f\"{_base}/test.csv\")) as f:\n",
    "        test_df = pd.read_csv(f, header=None, names=[\"label\", \"title\", \"description\"])"
   ]
  },
  {
   "cell_type": "code",
   "execution_count": 20,
   "id": "18b9c907",
   "metadata": {},
   "outputs": [
    {
     "data": {
      "text/html": [
       "<div>\n",
       "<style scoped>\n",
       "    .dataframe tbody tr th:only-of-type {\n",
       "        vertical-align: middle;\n",
       "    }\n",
       "\n",
       "    .dataframe tbody tr th {\n",
       "        vertical-align: top;\n",
       "    }\n",
       "\n",
       "    .dataframe thead th {\n",
       "        text-align: right;\n",
       "    }\n",
       "</style>\n",
       "<table border=\"1\" class=\"dataframe\">\n",
       "  <thead>\n",
       "    <tr style=\"text-align: right;\">\n",
       "      <th></th>\n",
       "      <th>label</th>\n",
       "      <th>title</th>\n",
       "      <th>description</th>\n",
       "    </tr>\n",
       "  </thead>\n",
       "  <tbody>\n",
       "    <tr>\n",
       "      <th>0</th>\n",
       "      <td>2</td>\n",
       "      <td>Stuning even for the non-gamer</td>\n",
       "      <td>This sound track was beautiful! It paints the ...</td>\n",
       "    </tr>\n",
       "    <tr>\n",
       "      <th>1</th>\n",
       "      <td>2</td>\n",
       "      <td>The best soundtrack ever to anything.</td>\n",
       "      <td>I'm reading a lot of reviews saying that this ...</td>\n",
       "    </tr>\n",
       "    <tr>\n",
       "      <th>2</th>\n",
       "      <td>2</td>\n",
       "      <td>Amazing!</td>\n",
       "      <td>This soundtrack is my favorite music of all ti...</td>\n",
       "    </tr>\n",
       "    <tr>\n",
       "      <th>3</th>\n",
       "      <td>2</td>\n",
       "      <td>Excellent Soundtrack</td>\n",
       "      <td>I truly like this soundtrack and I enjoy video...</td>\n",
       "    </tr>\n",
       "    <tr>\n",
       "      <th>4</th>\n",
       "      <td>2</td>\n",
       "      <td>Remember, Pull Your Jaw Off The Floor After He...</td>\n",
       "      <td>If you've played the game, you know how divine...</td>\n",
       "    </tr>\n",
       "  </tbody>\n",
       "</table>\n",
       "</div>"
      ],
      "text/plain": [
       "   label                                              title  \\\n",
       "0      2                     Stuning even for the non-gamer   \n",
       "1      2              The best soundtrack ever to anything.   \n",
       "2      2                                           Amazing!   \n",
       "3      2                               Excellent Soundtrack   \n",
       "4      2  Remember, Pull Your Jaw Off The Floor After He...   \n",
       "\n",
       "                                         description  \n",
       "0  This sound track was beautiful! It paints the ...  \n",
       "1  I'm reading a lot of reviews saying that this ...  \n",
       "2  This soundtrack is my favorite music of all ti...  \n",
       "3  I truly like this soundtrack and I enjoy video...  \n",
       "4  If you've played the game, you know how divine...  "
      ]
     },
     "execution_count": 20,
     "metadata": {},
     "output_type": "execute_result"
    }
   ],
   "source": [
    "train_df.head()"
   ]
  },
  {
   "cell_type": "code",
   "execution_count": 21,
   "id": "b5e83fb7",
   "metadata": {},
   "outputs": [
    {
     "data": {
      "text/html": [
       "<div>\n",
       "<style scoped>\n",
       "    .dataframe tbody tr th:only-of-type {\n",
       "        vertical-align: middle;\n",
       "    }\n",
       "\n",
       "    .dataframe tbody tr th {\n",
       "        vertical-align: top;\n",
       "    }\n",
       "\n",
       "    .dataframe thead th {\n",
       "        text-align: right;\n",
       "    }\n",
       "</style>\n",
       "<table border=\"1\" class=\"dataframe\">\n",
       "  <thead>\n",
       "    <tr style=\"text-align: right;\">\n",
       "      <th></th>\n",
       "      <th>label</th>\n",
       "      <th>title</th>\n",
       "      <th>description</th>\n",
       "    </tr>\n",
       "  </thead>\n",
       "  <tbody>\n",
       "    <tr>\n",
       "      <th>0</th>\n",
       "      <td>2</td>\n",
       "      <td>Great CD</td>\n",
       "      <td>My lovely Pat has one of the GREAT voices of h...</td>\n",
       "    </tr>\n",
       "    <tr>\n",
       "      <th>1</th>\n",
       "      <td>2</td>\n",
       "      <td>One of the best game music soundtracks - for a...</td>\n",
       "      <td>Despite the fact that I have only played a sma...</td>\n",
       "    </tr>\n",
       "    <tr>\n",
       "      <th>2</th>\n",
       "      <td>1</td>\n",
       "      <td>Batteries died within a year ...</td>\n",
       "      <td>I bought this charger in Jul 2003 and it worke...</td>\n",
       "    </tr>\n",
       "    <tr>\n",
       "      <th>3</th>\n",
       "      <td>2</td>\n",
       "      <td>works fine, but Maha Energy is better</td>\n",
       "      <td>Check out Maha Energy's website. Their Powerex...</td>\n",
       "    </tr>\n",
       "    <tr>\n",
       "      <th>4</th>\n",
       "      <td>2</td>\n",
       "      <td>Great for the non-audiophile</td>\n",
       "      <td>Reviewed quite a bit of the combo players and ...</td>\n",
       "    </tr>\n",
       "  </tbody>\n",
       "</table>\n",
       "</div>"
      ],
      "text/plain": [
       "   label                                              title  \\\n",
       "0      2                                           Great CD   \n",
       "1      2  One of the best game music soundtracks - for a...   \n",
       "2      1                   Batteries died within a year ...   \n",
       "3      2              works fine, but Maha Energy is better   \n",
       "4      2                       Great for the non-audiophile   \n",
       "\n",
       "                                         description  \n",
       "0  My lovely Pat has one of the GREAT voices of h...  \n",
       "1  Despite the fact that I have only played a sma...  \n",
       "2  I bought this charger in Jul 2003 and it worke...  \n",
       "3  Check out Maha Energy's website. Their Powerex...  \n",
       "4  Reviewed quite a bit of the combo players and ...  "
      ]
     },
     "execution_count": 21,
     "metadata": {},
     "output_type": "execute_result"
    }
   ],
   "source": [
    "test_df.head()"
   ]
  },
  {
   "cell_type": "code",
   "execution_count": 22,
   "id": "29ccde68",
   "metadata": {},
   "outputs": [
    {
     "name": "stdout",
     "output_type": "stream",
     "text": [
      "Train Data Size:  (3600000, 3) \n",
      "Test Data Size:  (400000, 3)\n"
     ]
    }
   ],
   "source": [
    "print(\"Train Data Size: \", train_df.shape, \"\\nTest Data Size: \", test_df.shape)"
   ]
  },
  {
   "cell_type": "code",
   "execution_count": 23,
   "id": "4abd8d61",
   "metadata": {},
   "outputs": [
    {
     "data": {
      "text/plain": [
       "label           int64\n",
       "title          object\n",
       "description    object\n",
       "dtype: object"
      ]
     },
     "execution_count": 23,
     "metadata": {},
     "output_type": "execute_result"
    }
   ],
   "source": [
    "train_df.dtypes"
   ]
  },
  {
   "cell_type": "code",
   "execution_count": 24,
   "id": "507eb176",
   "metadata": {},
   "outputs": [],
   "source": [
    "train_df = train_df.astype({'label': 'category', 'title': str, 'description': str})\n",
    "test_df = test_df.astype({'label': 'category', 'title': str, 'description': str})"
   ]
  },
  {
   "cell_type": "code",
   "execution_count": 25,
   "id": "d158ad3f",
   "metadata": {},
   "outputs": [
    {
     "data": {
      "image/png": "[encoded data removed]",
      "text/plain": [
       "<Figure size 800x200 with 1 Axes>"
      ]
     },
     "metadata": {},
     "output_type": "display_data"
    }
   ],
   "source": [
    "plt.figure(figsize=(8, 2))\n",
    "sns.countplot(x='label', data=test_df)\n",
    "plt.show()"
   ]
  },
  {
   "cell_type": "code",
   "execution_count": 45,
   "id": "265b97b7",
   "metadata": {},
   "outputs": [],
   "source": [
    "class TextPreprocessor(BaseEstimator, TransformerMixin):\n",
    "    def __init__(self):\n",
    "        self.lemmatizer = WordNetLemmatizer()\n",
    "        self.spell = SpellChecker()\n",
    "\n",
    "    def fit(self, X, y=None):\n",
    "        return self\n",
    "\n",
    "    def transform(self, X, *_):\n",
    "        return pd.Series(self._preprocess_sentences(X), index=X.index)\n",
    "\n",
    "    def _preprocess_text(self, text):\n",
    "        text = text.lower()\n",
    "        text = re.sub(r'https?://\\S+|www\\.\\S+', '', text)\n",
    "        # Collapse\n",
    "        text = re.sub(r'(.)\\1{2,}', r'\\1\\1', text)\n",
    "        text = re.sub(rf\"[{re.escape(string.punctuation)}]\", \" \", text)\n",
    "        # repeated-letter tokens 'a', 'bb', 'ccc'\n",
    "        text = re.sub(r'\\b([a-z])\\1*\\b', '', text, flags=re.IGNORECASE)\n",
    "        text = re.sub(r'\\s+', ' ', text).strip()\n",
    "        _tokens = re.findall(r'\\b[a-z]+\\b', text)\n",
    "\n",
    "        return ' '.join(self._lemmatized_spelling(_tokens))\n",
    "    \n",
    "    def _lemmatized_spelling(self, _tokens):\n",
    "        tokens = []\n",
    "        for token in _tokens:\n",
    "            if token in stop_words:\n",
    "                continue\n",
    "            \n",
    "            # if token not in self.spell:\n",
    "            #     token = re.sub(r'(.)\\1+', r'\\1', token)\n",
    "            #     corrected = self.spell.correction(token)\n",
    "            #     token = corrected if corrected else token\n",
    "\n",
    "            tokens.append(self.lemmatizer.lemmatize(token))\n",
    "\n",
    "        return tokens\n",
    "\n",
    "    def _preprocess_sentences(self, sentences):\n",
    "        return sentences.progress_apply(self._preprocess_text)\n",
    " \n",
    "preprocessor = TextPreprocessor()"
   ]
  },
  {
   "cell_type": "code",
   "execution_count": 46,
   "id": "e1512c13",
   "metadata": {},
   "outputs": [
    {
     "data": {
      "text/html": [
       "<div>\n",
       "<style scoped>\n",
       "    .dataframe tbody tr th:only-of-type {\n",
       "        vertical-align: middle;\n",
       "    }\n",
       "\n",
       "    .dataframe tbody tr th {\n",
       "        vertical-align: top;\n",
       "    }\n",
       "\n",
       "    .dataframe thead th {\n",
       "        text-align: right;\n",
       "    }\n",
       "</style>\n",
       "<table border=\"1\" class=\"dataframe\">\n",
       "  <thead>\n",
       "    <tr style=\"text-align: right;\">\n",
       "      <th></th>\n",
       "      <th>label</th>\n",
       "      <th>title</th>\n",
       "      <th>description</th>\n",
       "    </tr>\n",
       "  </thead>\n",
       "  <tbody>\n",
       "  </tbody>\n",
       "</table>\n",
       "</div>"
      ],
      "text/plain": [
       "Empty DataFrame\n",
       "Columns: [label, title, description]\n",
       "Index: []"
      ]
     },
     "execution_count": 46,
     "metadata": {},
     "output_type": "execute_result"
    }
   ],
   "source": [
    "empty_mask = train_df['title'].isna() | (train_df['title'].str.strip() == '')\n",
    "train_df[empty_mask]"
   ]
  },
  {
   "cell_type": "code",
   "execution_count": 47,
   "id": "c08d646a",
   "metadata": {},
   "outputs": [],
   "source": [
    "train_df.drop_duplicates(subset=['description'], inplace=True)\n",
    "test_df.drop_duplicates(subset=['description'], inplace=True)"
   ]
  },
  {
   "cell_type": "code",
   "execution_count": 48,
   "id": "2f61f7a8",
   "metadata": {},
   "outputs": [
    {
     "name": "stdout",
     "output_type": "stream",
     "text": [
      "Train Data Size:  (3594783, 3) \n",
      "Test Data Size:  (399917, 3)\n"
     ]
    }
   ],
   "source": [
    "print(\"Train Data Size: \", train_df.shape, \"\\nTest Data Size: \", test_df.shape)"
   ]
  },
  {
   "cell_type": "code",
   "execution_count": 49,
   "id": "3b29cf26",
   "metadata": {},
   "outputs": [
    {
     "name": "stdout",
     "output_type": "stream",
     "text": [
      "New Train Data Size: (539217, 3)\n",
      "New Test Data Size: (299938, 3)\n"
     ]
    }
   ],
   "source": [
    "# Reduce training data to half, testing data to 3/4\n",
    "reduced_train_df = train_df.sample(frac=0.15, random_state=42)\n",
    "reduced_test_df = test_df.sample(frac=0.75, random_state=42)\n",
    "\n",
    "print(\"New Train Data Size:\", reduced_train_df.shape)\n",
    "print(\"New Test Data Size:\", reduced_test_df.shape)"
   ]
  },
  {
   "cell_type": "code",
   "execution_count": 50,
   "id": "cf27ee23",
   "metadata": {},
   "outputs": [
    {
     "name": "stderr",
     "output_type": "stream",
     "text": [
      "100%|██████████| 539217/539217 [02:57<00:00, 3033.66it/s]\n"
     ]
    }
   ],
   "source": [
    "reduced_train_df.loc[:, 'description'] = preprocessor.transform(reduced_train_df['description'])"
   ]
  },
  {
   "cell_type": "code",
   "execution_count": 53,
   "id": "61cd6180",
   "metadata": {},
   "outputs": [
    {
     "name": "stderr",
     "output_type": "stream",
     "text": [
      "100%|██████████| 299938/299938 [01:40<00:00, 2986.67it/s]\n"
     ]
    }
   ],
   "source": [
    "reduced_test_df.loc[:, 'description'] = preprocessor.transform(reduced_test_df['description'])"
   ]
  },
  {
   "cell_type": "code",
   "execution_count": 54,
   "id": "2709fb7d",
   "metadata": {},
   "outputs": [],
   "source": [
    "reduced_train_df.to_csv('./_resources/preprocessed_train.csv', index=False)\n",
    "reduced_test_df.to_csv('./_resources/preprocessed_test.csv', index=False)"
   ]
  },
  {
   "cell_type": "code",
   "execution_count": 55,
   "id": "bb624a77",
   "metadata": {},
   "outputs": [],
   "source": [
    "processed_train_df = pd.read_csv('./_resources/preprocessed_train.csv').astype({\n",
    "\t'label': 'category', 'title': str, 'description': str\n",
    "})\n",
    "processed_test_df = pd.read_csv('./_resources/preprocessed_test.csv').astype({\n",
    "\t'label': 'category', 'title': str, 'description': str\n",
    "})"
   ]
  },
  {
   "cell_type": "code",
   "execution_count": 56,
   "id": "f8cd7793",
   "metadata": {},
   "outputs": [],
   "source": [
    "X_train, y_train = processed_train_df['description'], processed_train_df['label']\n",
    "X_test, y_test = processed_test_df['description'], processed_test_df['label']"
   ]
  },
  {
   "cell_type": "code",
   "execution_count": 57,
   "id": "2bedde32",
   "metadata": {},
   "outputs": [
    {
     "data": {
      "text/plain": [
       "['./_resources/models/tfidf_vectorizer.joblib']"
      ]
     },
     "execution_count": 57,
     "metadata": {},
     "output_type": "execute_result"
    }
   ],
   "source": [
    "tfidf = TfidfVectorizer(ngram_range=(1, 2))\n",
    "tfidf.fit(X_train)\n",
    "joblib.dump(tfidf, './_resources/models/tfidf_vectorizer.joblib')"
   ]
  },
  {
   "cell_type": "code",
   "execution_count": 58,
   "id": "38540f58",
   "metadata": {},
   "outputs": [],
   "source": [
    "tfidf = joblib.load('./_resources/models/tfidf_vectorizer.joblib')"
   ]
  },
  {
   "cell_type": "code",
   "execution_count": 59,
   "id": "83b22bf3",
   "metadata": {},
   "outputs": [
    {
     "name": "stdout",
     "output_type": "stream",
     "text": [
      "No. of features extracted:\n",
      "7235504\n"
     ]
    }
   ],
   "source": [
    "X_train_tfidf = tfidf.transform(X_train)\n",
    "X_test_tfidf = tfidf.transform(X_test)\n",
    "print(\"No. of features extracted:\")\n",
    "print(len(tfidf.vocabulary_))"
   ]
  },
  {
   "cell_type": "code",
   "execution_count": 60,
   "id": "6921df62",
   "metadata": {},
   "outputs": [],
   "source": [
    "words = tfidf.get_feature_names_out()"
   ]
  },
  {
   "cell_type": "code",
   "execution_count": 89,
   "id": "2e7ce4b9",
   "metadata": {},
   "outputs": [],
   "source": [
    "class ModelEvaluator:\n",
    "    def __init__(self, models: list):\n",
    "        self.models = models\n",
    "        self.results = []\n",
    "        self.trained_models = []\n",
    "\n",
    "    def evaluate(self, X_train, y_train, X_test, y_test):\n",
    "        for model_cfg in tqdm(self.models, desc=\"Evaluating Models\", unit=\"model\"):\n",
    "            model_name = model_cfg.get('name', 'Unnamed Model')\n",
    "            try:\n",
    "                model = model_cfg['model'](**model_cfg.get('params', {}))\n",
    "                model.fit(X_train, y_train)  # train\n",
    "                y_pred = model.predict(X_test)\n",
    "\n",
    "                metrics = {\n",
    "                    'Model': model_name,\n",
    "                    'Accuracy': accuracy_score(y_test, y_pred),\n",
    "                    'Precision': precision_score(y_test, y_pred, zero_division=0),\n",
    "                    'Recall': recall_score(y_test, y_pred, zero_division=0),\n",
    "                    'F1 Score': f1_score(y_test, y_pred, zero_division=0),\n",
    "                    'Trained': True\n",
    "                }\n",
    "                self.results.append(metrics)\n",
    "                self.trained_models.append({\n",
    "                    'name': model_name,\n",
    "                    'instance': model\n",
    "                })\n",
    "\n",
    "            except Exception as e:\n",
    "                print(f\"\\nModel '{model_name}' failed:\\n{traceback.format_exc()}\")\n",
    "                self.results.append({'Model': model_name,'Accuracy': None,'Precision': None,'Recall': None,'F1 Score': None,'Trained': False,'Error': str(e)})\n",
    "\n",
    "        df = pd.DataFrame(self.results)\n",
    "        return df.sort_values(by='Accuracy', ascending=False, na_position='last').reset_index(drop=True)\n",
    "\n",
    "    def save_models(self, save_dir: str = \"./_resources/models\"):\n",
    "        os.makedirs(save_dir, exist_ok=True)\n",
    "        pd.DataFrame(self.results).to_csv(\"./_resources/evaluations.csv\", index=False)\n",
    "\n",
    "        for tm in self.trained_models:\n",
    "            model_name = tm['name'].lower().replace(' ', '_')\n",
    "            filename = os.path.join(save_dir, f\"{model_name}.pkl\")\n",
    "            joblib.dump(tm['instance'], filename)\n",
    "            print(f\"Saved trained model: {filename}\")\n",
    "\n",
    "    def is_trained(self, model_name: str) -> bool:\n",
    "        return any(m['name'] == model_name for m in self.trained_models)"
   ]
  },
  {
   "cell_type": "code",
   "execution_count": 90,
   "id": "04e3d852",
   "metadata": {},
   "outputs": [],
   "source": [
    "models = [\n",
    "    {\n",
    "        'name': 'Logistic Regression',\n",
    "        'model': LogisticRegression,\n",
    "        'params': {'C': 0.1, 'solver': 'saga','max_iter': 5000, 'random_state': 42}\n",
    "    },\n",
    "    {\n",
    "        'name': 'Multinomial NaiveBayes',\n",
    "        'model': MultinomialNB,\n",
    "        'params': {'alpha': 0.5}\n",
    "    }\n",
    "]\n",
    "\n",
    "evaluator = ModelEvaluator(models)"
   ]
  },
  {
   "cell_type": "code",
   "execution_count": 91,
   "id": "2bbb1d17",
   "metadata": {},
   "outputs": [
    {
     "name": "stderr",
     "output_type": "stream",
     "text": [
      "Evaluating Models: 100%|██████████| 2/2 [00:52<00:00, 26.45s/model]\n"
     ]
    },
    {
     "data": {
      "text/html": [
       "<div>\n",
       "<style scoped>\n",
       "    .dataframe tbody tr th:only-of-type {\n",
       "        vertical-align: middle;\n",
       "    }\n",
       "\n",
       "    .dataframe tbody tr th {\n",
       "        vertical-align: top;\n",
       "    }\n",
       "\n",
       "    .dataframe thead th {\n",
       "        text-align: right;\n",
       "    }\n",
       "</style>\n",
       "<table border=\"1\" class=\"dataframe\">\n",
       "  <thead>\n",
       "    <tr style=\"text-align: right;\">\n",
       "      <th></th>\n",
       "      <th>Model</th>\n",
       "      <th>Accuracy</th>\n",
       "      <th>Precision</th>\n",
       "      <th>Recall</th>\n",
       "      <th>F1 Score</th>\n",
       "      <th>Trained</th>\n",
       "    </tr>\n",
       "  </thead>\n",
       "  <tbody>\n",
       "    <tr>\n",
       "      <th>0</th>\n",
       "      <td>Multinomial NaiveBayes</td>\n",
       "      <td>0.862402</td>\n",
       "      <td>0.854601</td>\n",
       "      <td>0.873616</td>\n",
       "      <td>0.864003</td>\n",
       "      <td>True</td>\n",
       "    </tr>\n",
       "    <tr>\n",
       "      <th>1</th>\n",
       "      <td>Logistic Regression</td>\n",
       "      <td>0.859901</td>\n",
       "      <td>0.861831</td>\n",
       "      <td>0.857449</td>\n",
       "      <td>0.859635</td>\n",
       "      <td>True</td>\n",
       "    </tr>\n",
       "  </tbody>\n",
       "</table>\n",
       "</div>"
      ],
      "text/plain": [
       "                    Model  Accuracy  Precision    Recall  F1 Score  Trained\n",
       "0  Multinomial NaiveBayes  0.862402   0.854601  0.873616  0.864003     True\n",
       "1     Logistic Regression  0.859901   0.861831  0.857449  0.859635     True"
      ]
     },
     "execution_count": 91,
     "metadata": {},
     "output_type": "execute_result"
    }
   ],
   "source": [
    "results_df = evaluator.evaluate(X_train_tfidf, y_train, X_test_tfidf, y_test)\n",
    "results_df"
   ]
  },
  {
   "cell_type": "code",
   "execution_count": 93,
   "id": "7c65ba04",
   "metadata": {},
   "outputs": [
    {
     "name": "stdout",
     "output_type": "stream",
     "text": [
      "Saved trained model: ./_resources/models\\logistic_regression.pkl\n",
      "Saved trained model: ./_resources/models\\multinomial_naivebayes.pkl\n"
     ]
    }
   ],
   "source": [
    "evaluator.save_models()"
   ]
  },
  {
   "cell_type": "code",
   "execution_count": 100,
   "id": "e5fc58d9",
   "metadata": {},
   "outputs": [
    {
     "data": {
      "image/png": "[encoded data removed]",
      "text/plain": [
       "<Figure size 1200x600 with 1 Axes>"
      ]
     },
     "metadata": {},
     "output_type": "display_data"
    },
    {
     "data": {
      "image/png": "[encoded data removed]",
      "text/plain": [
       "<Figure size 1200x600 with 1 Axes>"
      ]
     },
     "metadata": {},
     "output_type": "display_data"
    }
   ],
   "source": [
    "feature_names = np.array(words)\n",
    "\n",
    "coef = evaluator.trained_models[0]['instance'].coef_.ravel()\n",
    "top_pos_indices = np.argsort(coef)[-30:]\n",
    "top_neg_indices = np.argsort(coef)[:30]\n",
    "\n",
    "plt.figure(figsize=(12, 6))\n",
    "sns.barplot(x=coef[top_pos_indices], y=feature_names[top_pos_indices], color='green')\n",
    "plt.title(\"Top Positive Words\")\n",
    "plt.show()\n",
    "\n",
    "plt.figure(figsize=(12, 6))\n",
    "sns.barplot(x=coef[top_neg_indices], y=feature_names[top_neg_indices], color='red')\n",
    "plt.title(\"Top Negative Words\")\n",
    "plt.show()"
   ]
  },
  {
   "cell_type": "code",
   "execution_count": null,
   "id": "bee44a9e",
   "metadata": {},
   "outputs": [],
   "source": []
  }
 ],
 "metadata": {
  "kernelspec": {
   "display_name": ".venv",
   "language": "python",
   "name": "python3"
  },
  "language_info": {
   "codemirror_mode": {
    "name": "ipython",
    "version": 3
   },
   "file_extension": ".py",
   "mimetype": "text/x-python",
   "name": "python",
   "nbconvert_exporter": "python",
   "pygments_lexer": "ipython3",
   "version": "3.12.3"
  }
 },
 "nbformat": 4,
 "nbformat_minor": 5
}
